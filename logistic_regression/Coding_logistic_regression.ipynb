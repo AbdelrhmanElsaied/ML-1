{
  "cells": [
    {
      "cell_type": "markdown",
      "metadata": {
        "id": "il6Znbz7R-bz"
      },
      "source": [
        "# Sentiment analysis with Logistic Regression\n",
        "\n",
        "### Some plotting functions"
      ]
    },
    {
      "cell_type": "code",
      "execution_count": null,
      "metadata": {
        "id": "rOeTLDZTR_-2"
      },
      "outputs": [],
      "source": [
        "!git clone https://github.com/AbdelrhmanElsaied/ml-1.git\n",
        "%cd  ml-1/logistic_regression"
      ]
    },
    {
      "cell_type": "code",
      "execution_count": null,
      "metadata": {
        "id": "nRr0Q1KKR-b5"
      },
      "outputs": [],
      "source": [
        "# Importing packages\n",
        "from matplotlib import pyplot as plt\n",
        "import numpy as np\n",
        "import random\n",
        "import utils"
      ]
    },
    {
      "cell_type": "code",
      "execution_count": null,
      "metadata": {
        "id": "cAeOp-VVR-b6"
      },
      "outputs": [],
      "source": [
        "import numpy as np\n",
        "features = np.array([[1,0],[0,2],[1,1],[1,2],[1,3],[2,2],[3,2],[2,3]])\n",
        "labels = np.array([0,0,0,0,1,1,1,1])"
      ]
    },
    {
      "cell_type": "code",
      "execution_count": null,
      "metadata": {
        "id": "GD55Gk4CR-b7"
      },
      "outputs": [],
      "source": [
        "# Plotting the points\n",
        "utils.plot_points(features, labels)"
      ]
    },
    {
      "cell_type": "markdown",
      "metadata": {
        "id": "3-Yf7M9jR-b8"
      },
      "source": [
        "### Logistic regression"
      ]
    },
    {
      "cell_type": "code",
      "execution_count": null,
      "metadata": {
        "id": "kydHv25YR-b9"
      },
      "outputs": [],
      "source": [
        "def sigmoid(x):\n",
        "    ## TODO ##\n",
        "    # implement sigmoid function\n",
        "\n",
        "    return output\n",
        "\n",
        "def score(weights, bias, features):\n",
        "    return np.dot(weights, features) + bias\n",
        "\n",
        "def prediction(weights, bias, features):\n",
        "    ## TODO ##\n",
        "    # implement prediction calculation using sigmoid and score functions\n",
        "\n",
        "    return output\n",
        "\n",
        "def log_loss(weights, bias, features, label):\n",
        "    ## TODO ##\n",
        "    # implement log_loss calculation using prediction function\n",
        "\n",
        "    return output\n",
        "\n",
        "def total_log_loss(weights, bias, X, y):\n",
        "    total_error = 0\n",
        "    for i in range(len(X)):\n",
        "        total_error += log_loss(weights, bias, X[i], y[i])\n",
        "    return total_error"
      ]
    },
    {
      "cell_type": "code",
      "execution_count": null,
      "metadata": {
        "id": "29JrFSMKR-b9"
      },
      "outputs": [],
      "source": [
        "def logistic_trick(weights, bias, features, label, learning_rate = 0.01):\n",
        "    ## TODO ##\n",
        "    # update the weights and bias using a single data sample\n",
        "\n",
        "    return weights, bias"
      ]
    },
    {
      "cell_type": "code",
      "execution_count": null,
      "metadata": {
        "id": "GQGwdC2qR-b-"
      },
      "outputs": [],
      "source": [
        "def logistic_regression_algorithm(features, labels, learning_rate = 0.01, epochs = 1000):\n",
        "    utils.plot_points(features, labels)\n",
        "    weights = [1.0 for i in range(len(features[0]))]\n",
        "    bias = 0.0\n",
        "    errors = []\n",
        "    for i in range(epochs):\n",
        "        # Comment the following line of code to remove the plots of all the classifiers\n",
        "        utils.draw_line(weights[0], weights[1], bias, color='grey', linewidth=0.1, linestyle='dotted')\n",
        "        errors.append(total_log_loss(weights, bias, features, labels))\n",
        "        j = random.randint(0, len(features)-1)\n",
        "        weights, bias = logistic_trick(weights, bias, features[j], labels[j])\n",
        "    utils.draw_line(weights[0], weights[1], bias)\n",
        "    plt.show()\n",
        "    plt.scatter(range(epochs), errors)\n",
        "    plt.xlabel('epochs')\n",
        "    plt.ylabel('error')\n",
        "    return weights, bias"
      ]
    },
    {
      "cell_type": "code",
      "execution_count": null,
      "metadata": {
        "id": "vDRk2mytR-b-"
      },
      "outputs": [],
      "source": [
        "logistic_regression_algorithm(features, labels)"
      ]
    },
    {
      "cell_type": "markdown",
      "metadata": {
        "id": "xmClMFaqR-b_"
      },
      "source": [
        "# Logistic SKlearn"
      ]
    },
    {
      "cell_type": "code",
      "execution_count": null,
      "metadata": {
        "id": "WA3A3BVtR-b_"
      },
      "outputs": [],
      "source": [
        "from sklearn.linear_model import LogisticRegression\n",
        "## TODO ##\n",
        "# Use SKlearn to train logistic regression\n",
        "clf="
      ]
    },
    {
      "cell_type": "code",
      "execution_count": null,
      "metadata": {
        "id": "KhVzpskEhGg6"
      },
      "outputs": [],
      "source": [
        "clf.score(features, labels)"
      ]
    },
    {
      "cell_type": "code",
      "execution_count": null,
      "metadata": {
        "id": "VN-ld0NkR-b_"
      },
      "outputs": [],
      "source": [
        "weights = clf.coef_\n",
        "bias = clf.intercept_\n",
        "utils.draw_line(weights[0][0], weights[0][1], bias)\n",
        "utils.plot_points(features, labels)\n",
        "plt.show()"
      ]
    },
    {
      "cell_type": "markdown",
      "metadata": {
        "id": "gWcktyyaQz6W"
      },
      "source": [
        "### Real Example (Breast Cancer)"
      ]
    },
    {
      "cell_type": "code",
      "execution_count": null,
      "metadata": {
        "id": "iC10_fPVzSRM"
      },
      "outputs": [],
      "source": [
        "# Use seaborn for pairplot.\n",
        "!pip install -q seaborn"
      ]
    },
    {
      "cell_type": "code",
      "execution_count": null,
      "metadata": {
        "id": "tHbpNus20cyK"
      },
      "outputs": [],
      "source": [
        "import pandas as pd\n",
        "import matplotlib\n",
        "from matplotlib import pyplot as plt\n",
        "import seaborn as sns\n",
        "import sklearn.metrics as sk_metrics\n",
        "import tempfile\n",
        "import os\n",
        "\n",
        "# Preset matplotlib figure sizes.\n",
        "matplotlib.rcParams['figure.figsize'] = [9, 6]"
      ]
    },
    {
      "cell_type": "code",
      "execution_count": null,
      "metadata": {
        "id": "gxJ3UyH00UNZ"
      },
      "outputs": [],
      "source": [
        "url = 'https://archive.ics.uci.edu/ml/machine-learning-databases/breast-cancer-wisconsin/wdbc.data'\n",
        "\n",
        "features = ['radius', 'texture', 'perimeter', 'area', 'smoothness', 'compactness',\n",
        "            'concavity', 'concave_poinits', 'symmetry', 'fractal_dimension']\n",
        "column_names = ['id', 'diagnosis']\n",
        "\n",
        "for attr in ['mean', 'ste', 'largest']:\n",
        "  for feature in features:\n",
        "    column_names.append(feature + \"_\" + attr)"
      ]
    },
    {
      "cell_type": "code",
      "execution_count": null,
      "metadata": {
        "id": "P-NBXJLL0YZl"
      },
      "outputs": [],
      "source": [
        "dataset = pd.read_csv(url, names=column_names)\n",
        "dataset.head()"
      ]
    },
    {
      "cell_type": "code",
      "execution_count": null,
      "metadata": {
        "id": "WeVD2C0W0att"
      },
      "outputs": [],
      "source": [
        "train_dataset = dataset.sample(frac=0.75, random_state=1)\n",
        "test_dataset = dataset.drop(train_dataset.index)\n",
        "# The `id` column can be dropped since each row is unique\n",
        "x_train, y_train = train_dataset.iloc[:, 2:], train_dataset.iloc[:, 1]\n",
        "x_test, y_test = test_dataset.iloc[:, 2:], test_dataset.iloc[:, 1]"
      ]
    },
    {
      "cell_type": "code",
      "execution_count": null,
      "metadata": {
        "id": "9VRZNE8z10u5"
      },
      "outputs": [],
      "source": [
        "y_train, y_test = y_train.map({'B': 0, 'M': 1}), y_test.map({'B': 0, 'M': 1})"
      ]
    },
    {
      "cell_type": "code",
      "execution_count": null,
      "metadata": {
        "id": "OfmZeq-F2Dw8"
      },
      "outputs": [],
      "source": [
        "sns.pairplot(train_dataset.iloc[:, 1:6], hue = 'diagnosis');"
      ]
    },
    {
      "cell_type": "code",
      "execution_count": null,
      "metadata": {
        "id": "AgG7UtMI3Rq1"
      },
      "outputs": [],
      "source": [
        "# use only \"radius_mean\" feature\n",
        "# use \"sag\" solver\n"
      ]
    },
    {
      "cell_type": "code",
      "execution_count": null,
      "metadata": {
        "id": "uJcHfc3G2Wam"
      },
      "outputs": [],
      "source": [
        "# use all data\n",
        "# use \"sag\" solver\n"
      ]
    },
    {
      "cell_type": "code",
      "execution_count": null,
      "metadata": {
        "id": "DAV4D_oJ5Ulw"
      },
      "outputs": [],
      "source": [
        "# use all data with standard scaler \n",
        "# use \"sag\" solver\n"
      ]
    },
    {
      "cell_type": "code",
      "execution_count": null,
      "metadata": {
        "id": "jtFZa6xU6Uu6"
      },
      "outputs": [],
      "source": []
    }
  ],
  "metadata": {
    "colab": {
      "name": "Copy of Coding_logistic_regression.ipynb",
      "provenance": []
    },
    "kernelspec": {
      "display_name": "Python 3",
      "language": "python",
      "name": "python3"
    },
    "language_info": {
      "codemirror_mode": {
        "name": "ipython",
        "version": 3
      },
      "file_extension": ".py",
      "mimetype": "text/x-python",
      "name": "python",
      "nbconvert_exporter": "python",
      "pygments_lexer": "ipython3",
      "version": "3.7.6"
    }
  },
  "nbformat": 4,
  "nbformat_minor": 0
}
